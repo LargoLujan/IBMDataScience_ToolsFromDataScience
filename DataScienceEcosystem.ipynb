{
 "cells": [
  {
   "cell_type": "markdown",
   "id": "c61a7643-4f49-4f59-9351-17570a6c005c",
   "metadata": {},
   "source": [
    "# Data Science Tools and Ecosystem\n",
    "\n",
    "---"
   ]
  },
  {
   "cell_type": "markdown",
   "id": "06f36bed-9f52-4243-aac5-5e3aedfe23ed",
   "metadata": {},
   "source": [
    "In this notebook, Data Science Tools and Ecosystem are summarized.\n",
    "\n",
    "---"
   ]
  },
  {
   "cell_type": "markdown",
   "id": "eb57a240-79c2-4d62-ba9d-7bbd1214be47",
   "metadata": {},
   "source": [
    "## Objectives:\n",
    "- List popular languages for Data Science\n",
    "- Identify common libraries used in Data Science\n",
    "- Present tools and environments used in Data Science\n",
    "- Show examples of basic arithmetic operations in Python\n",
    "\n",
    "---"
   ]
  },
  {
   "cell_type": "markdown",
   "id": "53e63029-0e9d-42bf-b904-b93297b4fa4a",
   "metadata": {},
   "source": [
    "## Some of the popular languages that Data Scientists use are:\n",
    "1. Python\n",
    "2. R\n",
    "3. SQL\n",
    "\n",
    "---\n",
    "\n"
   ]
  },
  {
   "cell_type": "markdown",
   "id": "1f84519d-8cf7-443a-a1dd-336029aea747",
   "metadata": {},
   "source": [
    "## Some of the commonly used libraries used by Data Scientists include:\n",
    "- Pandas\n",
    "- NumPy\n",
    "- Matplotlib\n",
    "\n",
    "---\n",
    "\n"
   ]
  },
  {
   "cell_type": "markdown",
   "id": "11b027f8-924c-41ad-8848-a640bde17248",
   "metadata": {},
   "source": [
    "## Data Science Tools\n",
    "\n",
    "| Tool              | Description                                        |\n",
    "|-------------------|----------------------------------------------------|\n",
    "| Jupyter Notebook  | Interactive environment for code, visualization, and documentation |\n",
    "| RStudio           | IDE for R, widely used in statistical analysis     |\n",
    "| Apache Spark      | Engine for large-scale data processing             |\n",
    "| TensorFlow        | Machine learning library developed by Google       |\n",
    "\n",
    "---\n",
    "\n"
   ]
  },
  {
   "cell_type": "markdown",
   "id": "0e5e0d91-26e0-4cdb-99e7-f903a1aae0b1",
   "metadata": {},
   "source": [
    "### Below are a few examples of evaluating arithmetic expressions in Python.\n"
   ]
  },
  {
   "cell_type": "code",
   "execution_count": 35,
   "id": "aad05551-7f2d-4aa4-a4a9-c76c75c3a20c",
   "metadata": {},
   "outputs": [
    {
     "data": {
      "text/plain": [
       "17"
      ]
     },
     "execution_count": 35,
     "metadata": {},
     "output_type": "execute_result"
    }
   ],
   "source": [
    "# This is a simple arithmetic expression to multiply and then add integers\n",
    "result = (3 * 4) + 5\n",
    "result"
   ]
  },
  {
   "cell_type": "code",
   "execution_count": 37,
   "id": "2e31a23a-eb01-45e7-a0ac-822e26e037bb",
   "metadata": {},
   "outputs": [
    {
     "data": {
      "text/plain": [
       "2.0"
      ]
     },
     "execution_count": 37,
     "metadata": {},
     "output_type": "execute_result"
    }
   ],
   "source": [
    "# This will convert 200 minutes to hours by dividing by 60\n",
    "minutes = 120\n",
    "hours = minutes / 60\n",
    "hours"
   ]
  },
  {
   "cell_type": "markdown",
   "id": "b20b8d08-8af8-432f-a48a-496bf05a2d8f",
   "metadata": {},
   "source": [
    "**Objectives:**\n",
    "\n",
    "- List popular languages for Data Science\n",
    "- Identify common libraries used in Data Science\n",
    "- Present tools and environments used in Data Science\n",
    "- Show examples of basic arithmetic operations in Python\n"
   ]
  },
  {
   "cell_type": "markdown",
   "id": "d3acec1a-9ef9-4bfd-988c-b53ad28d0f52",
   "metadata": {},
   "source": [
    "## Author\n",
    "\n",
    "**Author:** Manuel Luján Vilchez\n",
    "\n",
    "---"
   ]
  },
  {
   "cell_type": "markdown",
   "id": "2d02100f-87f5-463a-a98b-0915db7d8c51",
   "metadata": {},
   "source": [
    "This notebook has been shared on GitHub. To access it, visit [GitHub Repository Link](https://github.com/LargoLujan/IBMDataScience_ToolsFromDataScience/).\n",
    "\n",
    "---\n",
    "\n",
    "Make sure to capture a screenshot of the first page of this notebook for submission purposes.\n",
    "```\n",
    "\n",
    "This notebook includes:\n",
    "\n",
    "1. A title.\n",
    "2. An introduction.\n",
    "3. A list of data science languages.\n",
    "4. A list of data science libraries.\n",
    "5. A table of data science tools.\n",
    "6. Examples of arithmetic expressions.\n",
    "7. Python code for multiplying and adding numbers.\n",
    "8. Python code for converting minutes into hours.\n",
    "9. A list of goals.\n",
    "10. The author's name.\n",
    "11. A note about sharing the notebook on GitHub.\n",
    "12. A reminder to capture a screenshot of the first page.\n",
    "\n",
    "This structure ensures the notebook covers all the necessary points seamlessly."
   ]
  },
  {
   "cell_type": "code",
   "execution_count": null,
   "id": "6fbb4e2a-1ca2-4163-8346-52606ff6ea93",
   "metadata": {},
   "outputs": [],
   "source": []
  }
 ],
 "metadata": {
  "kernelspec": {
   "display_name": "Python 3 (ipykernel)",
   "language": "python",
   "name": "python3"
  },
  "language_info": {
   "codemirror_mode": {
    "name": "ipython",
    "version": 3
   },
   "file_extension": ".py",
   "mimetype": "text/x-python",
   "name": "python",
   "nbconvert_exporter": "python",
   "pygments_lexer": "ipython3",
   "version": "3.11.7"
  }
 },
 "nbformat": 4,
 "nbformat_minor": 5
}
